{
  "nbformat": 4,
  "nbformat_minor": 0,
  "metadata": {
    "kernelspec": {
      "display_name": "Python 3",
      "language": "python",
      "name": "python3"
    },
    "language_info": {
      "codemirror_mode": {
        "name": "ipython",
        "version": 3
      },
      "file_extension": ".py",
      "mimetype": "text/x-python",
      "name": "python",
      "nbconvert_exporter": "python",
      "pygments_lexer": "ipython3",
      "version": "3.6.5"
    },
    "colab": {
      "name": "student marks predictor.ipynb",
      "provenance": []
    }
  },
  "cells": [
    {
      "cell_type": "markdown",
      "metadata": {
        "id": "5clFBiBY-Icd"
      },
      "source": [
        "# TASK 1: Prediction Using Supervised ML\n",
        "\n",
        "## Priya Singh\n",
        "\n",
        "### The Sparks Foundation\n",
        "\n",
        "### Data Science & Business Analytics Intern\n"
      ]
    },
    {
      "cell_type": "markdown",
      "metadata": {
        "id": "lBCiFkxT-Icf"
      },
      "source": [
        "In this task we have to predict the percentage of an student based on the no. of study hours.\n",
        "\n",
        "● This is a simple linear regression task as it involves just 2 variables.\n",
        "\n",
        "● Data set used - http://bit.ly/w-data\n",
        "\n",
        "● Poblem Statement :Predicting the score if a student studies for 9.25 hrs/ day."
      ]
    },
    {
      "cell_type": "markdown",
      "metadata": {
        "id": "g8RvI7fS-Ich"
      },
      "source": [
        "# IMPORTING LIBRARIES"
      ]
    },
    {
      "cell_type": "code",
      "metadata": {
        "id": "AGx29HGo-Ich"
      },
      "source": [
        "import numpy as np\n",
        "import pandas as pd\n",
        "import matplotlib.pyplot as plt\n",
        "%matplotlib inline"
      ],
      "execution_count": null,
      "outputs": []
    },
    {
      "cell_type": "markdown",
      "metadata": {
        "id": "P-BcruWt-Ici"
      },
      "source": [
        "# IMPORTING DATASET"
      ]
    },
    {
      "cell_type": "code",
      "metadata": {
        "id": "3i5y2YVt-Ici",
        "outputId": "94280b07-e785-480f-b551-2783936f591b"
      },
      "source": [
        "url = \"http://bit.ly/w-data\"\n",
        "df = pd.read_csv(url)\n",
        "print(\"Data imported successfully\")\n",
        "print(df)"
      ],
      "execution_count": null,
      "outputs": [
        {
          "output_type": "stream",
          "text": [
            "Data imported successfully\n",
            "    Hours  Scores\n",
            "0     2.5      21\n",
            "1     5.1      47\n",
            "2     3.2      27\n",
            "3     8.5      75\n",
            "4     3.5      30\n",
            "5     1.5      20\n",
            "6     9.2      88\n",
            "7     5.5      60\n",
            "8     8.3      81\n",
            "9     2.7      25\n",
            "10    7.7      85\n",
            "11    5.9      62\n",
            "12    4.5      41\n",
            "13    3.3      42\n",
            "14    1.1      17\n",
            "15    8.9      95\n",
            "16    2.5      30\n",
            "17    1.9      24\n",
            "18    6.1      67\n",
            "19    7.4      69\n",
            "20    2.7      30\n",
            "21    4.8      54\n",
            "22    3.8      35\n",
            "23    6.9      76\n",
            "24    7.8      86\n"
          ],
          "name": "stdout"
        }
      ]
    },
    {
      "cell_type": "code",
      "metadata": {
        "id": "m22Vm7m3-Icj",
        "outputId": "e546c555-9c71-486d-ea50-0660a1bcd1fb"
      },
      "source": [
        "df.shape"
      ],
      "execution_count": null,
      "outputs": [
        {
          "output_type": "execute_result",
          "data": {
            "text/plain": [
              "(25, 2)"
            ]
          },
          "metadata": {
            "tags": []
          },
          "execution_count": 3
        }
      ]
    },
    {
      "cell_type": "markdown",
      "metadata": {
        "id": "oqjPKm8v-Icj"
      },
      "source": [
        "# SCATTER PLOT"
      ]
    },
    {
      "cell_type": "code",
      "metadata": {
        "id": "5y7qblRz-Ick",
        "outputId": "89a601ff-671d-4bed-d671-df1ffbcd38f3"
      },
      "source": [
        "plt.scatter(x=df.Hours,y=df.Scores)\n",
        "plt.xlabel('Study Hours')\n",
        "plt.ylabel('Student Marks')\n",
        "plt.title('Student Marks Predictor')\n",
        "plt.show()"
      ],
      "execution_count": null,
      "outputs": [
        {
          "output_type": "display_data",
          "data": {
            "image/png": "[encoded data removed]",
            "text/plain": [
              "<Figure size 432x288 with 1 Axes>"
            ]
          },
          "metadata": {
            "tags": []
          }
        }
      ]
    },
    {
      "cell_type": "markdown",
      "metadata": {
        "id": "BOJml8jN-Ick"
      },
      "source": [
        "From the graph above, we can clearly see that there is a positive linear relation between the number of hours studied and the percentage of score"
      ]
    },
    {
      "cell_type": "code",
      "metadata": {
        "id": "Wd4vuCEn-Icl",
        "outputId": "81762a49-bbeb-4b4e-f8be-28af05e935b4"
      },
      "source": [
        "#to check any missing values\n",
        "df.isnull().sum()"
      ],
      "execution_count": null,
      "outputs": [
        {
          "output_type": "execute_result",
          "data": {
            "text/plain": [
              "Hours     0\n",
              "Scores    0\n",
              "dtype: int64"
            ]
          },
          "metadata": {
            "tags": []
          },
          "execution_count": 5
        }
      ]
    },
    {
      "cell_type": "markdown",
      "metadata": {
        "id": "6ZDPSPjt-Icl"
      },
      "source": [
        "# Splitting Data in Dependent and Independent Variables\n",
        "\n",
        "#####  The next step is to divide the data into \"attributes\"(inputs) and \"labels\"(outputs)"
      ]
    },
    {
      "cell_type": "code",
      "metadata": {
        "id": "3jOu1xd0-Icl"
      },
      "source": [
        "X=df.iloc[:, :-1].values #independent variable\n",
        "Y=df.iloc[:, 1].values #dependent variable"
      ],
      "execution_count": null,
      "outputs": []
    },
    {
      "cell_type": "code",
      "metadata": {
        "id": "CWFYjuG0-Icm",
        "outputId": "ef973647-b408-441a-a0f5-343e0e6161e5"
      },
      "source": [
        "print(X)"
      ],
      "execution_count": null,
      "outputs": [
        {
          "output_type": "stream",
          "text": [
            "[[2.5]\n",
            " [5.1]\n",
            " [3.2]\n",
            " [8.5]\n",
            " [3.5]\n",
            " [1.5]\n",
            " [9.2]\n",
            " [5.5]\n",
            " [8.3]\n",
            " [2.7]\n",
            " [7.7]\n",
            " [5.9]\n",
            " [4.5]\n",
            " [3.3]\n",
            " [1.1]\n",
            " [8.9]\n",
            " [2.5]\n",
            " [1.9]\n",
            " [6.1]\n",
            " [7.4]\n",
            " [2.7]\n",
            " [4.8]\n",
            " [3.8]\n",
            " [6.9]\n",
            " [7.8]]\n"
          ],
          "name": "stdout"
        }
      ]
    },
    {
      "cell_type": "markdown",
      "metadata": {
        "id": "MhmX3NF3-Icm"
      },
      "source": [
        "# TRAIN-TEST SPLITTING"
      ]
    },
    {
      "cell_type": "code",
      "metadata": {
        "id": "UP1pXsSo-Icm"
      },
      "source": [
        "#train test splitting\n",
        "from sklearn.model_selection import train_test_split\n",
        "X_train,X_test,Y_train,Y_test=train_test_split(X,Y,test_size=0.2,random_state=0)"
      ],
      "execution_count": null,
      "outputs": []
    },
    {
      "cell_type": "markdown",
      "metadata": {
        "id": "ViCYfCt_-Icn"
      },
      "source": [
        "# Linear Regression"
      ]
    },
    {
      "cell_type": "code",
      "metadata": {
        "id": "GKC3f8Zi-Icn",
        "outputId": "416fa6bf-29d0-4dd1-a3c1-f1ddedbaa0c6"
      },
      "source": [
        "#select a model and train it\n",
        "from sklearn.linear_model import LinearRegression\n",
        "lr=LinearRegression()\n",
        "lr.fit(X_train,Y_train)"
      ],
      "execution_count": null,
      "outputs": [
        {
          "output_type": "execute_result",
          "data": {
            "text/plain": [
              "LinearRegression(copy_X=True, fit_intercept=True, n_jobs=1, normalize=False)"
            ]
          },
          "metadata": {
            "tags": []
          },
          "execution_count": 9
        }
      ]
    },
    {
      "cell_type": "code",
      "metadata": {
        "id": "yza5uEzz-Ico",
        "outputId": "1191a841-485f-425f-a332-6d07939cc602"
      },
      "source": [
        "# Plotting the regression line #y=mx+c\n",
        "line = lr.coef_*X+lr.intercept_\n",
        "# Plotting for the test data\n",
        "plt.scatter(X, Y)\n",
        "plt.plot(X, line);\n",
        "plt.show()"
      ],
      "execution_count": null,
      "outputs": [
        {
          "output_type": "display_data",
          "data": {
            "image/png": "[encoded data removed]",
            "text/plain": [
              "<Figure size 432x288 with 1 Axes>"
            ]
          },
          "metadata": {
            "tags": []
          }
        }
      ]
    },
    {
      "cell_type": "markdown",
      "metadata": {
        "id": "Y0W_3ymT-Ico"
      },
      "source": [
        "# PREDICTIONS"
      ]
    },
    {
      "cell_type": "code",
      "metadata": {
        "id": "pw8b4R42-Ico",
        "outputId": "caf235cf-07cc-4d09-bc83-dbc0665d84a9"
      },
      "source": [
        "print(X_test) # Testing data - In Hours\n",
        "y_pred = lr.predict(X_test) # Predicting the scores"
      ],
      "execution_count": null,
      "outputs": [
        {
          "output_type": "stream",
          "text": [
            "[[1.5]\n",
            " [3.2]\n",
            " [7.4]\n",
            " [2.5]\n",
            " [5.9]]\n"
          ],
          "name": "stdout"
        }
      ]
    },
    {
      "cell_type": "code",
      "metadata": {
        "scrolled": true,
        "id": "QQLJ0iCk-Icp",
        "outputId": "394a06ba-3baa-4f00-974d-96340bef0022"
      },
      "source": [
        "# Comparing Actual vs Predicted\n",
        "df1 = pd.DataFrame({'Actual':Y_test, 'Predicted':y_pred})  \n",
        "print(df1) "
      ],
      "execution_count": null,
      "outputs": [
        {
          "output_type": "stream",
          "text": [
            "   Actual  Predicted\n",
            "0      20  16.884145\n",
            "1      27  33.732261\n",
            "2      69  75.357018\n",
            "3      30  26.794801\n",
            "4      62  60.491033\n"
          ],
          "name": "stdout"
        }
      ]
    },
    {
      "cell_type": "markdown",
      "metadata": {
        "id": "D9R9wNOn-Icp"
      },
      "source": [
        "# Model Evaluation"
      ]
    },
    {
      "cell_type": "markdown",
      "metadata": {
        "id": "WMx5Durd-Icq"
      },
      "source": [
        ""
      ]
    },
    {
      "cell_type": "code",
      "metadata": {
        "id": "Bgdv7U4W-Icq",
        "outputId": "c8965286-b68d-4926-ec4e-ed0089dded5f"
      },
      "source": [
        "#coef_ and intercept_ are coefficients and intercepts resp. for our model\n",
        "print(\"Coefficients:\\n\",lr.coef_)\n",
        "print(\"Intercept:\\n\",lr.intercept_)\n"
      ],
      "execution_count": null,
      "outputs": [
        {
          "output_type": "stream",
          "text": [
            "Coefficients:\n",
            " [9.91065648]\n",
            "Intercept:\n",
            " 2.018160041434683\n"
          ],
          "name": "stdout"
        }
      ]
    },
    {
      "cell_type": "code",
      "metadata": {
        "id": "IqnwadNL-Icr",
        "outputId": "d70b00af-ec5d-4c87-dd50-2bb91862a30f"
      },
      "source": [
        "from sklearn import metrics  \n",
        "print('Mean Absolute Error:',metrics.mean_absolute_error(Y_test, y_pred)) "
      ],
      "execution_count": null,
      "outputs": [
        {
          "output_type": "stream",
          "text": [
            "Mean Absolute Error: 4.183859899002975\n"
          ],
          "name": "stdout"
        }
      ]
    },
    {
      "cell_type": "code",
      "metadata": {
        "id": "YLfFdK3k-Icr",
        "outputId": "07a1a074-8d7a-4d3e-dee9-8949fb8fd0e9"
      },
      "source": [
        "# Explained variance score: 1 is perfect prediction\n",
        "from sklearn.metrics import  r2_score\n",
        "print('Variance score: %.2f' % r2_score(Y_test, y_pred))"
      ],
      "execution_count": null,
      "outputs": [
        {
          "output_type": "stream",
          "text": [
            "Variance score: 0.95\n"
          ],
          "name": "stdout"
        }
      ]
    },
    {
      "cell_type": "code",
      "metadata": {
        "id": "iJ0xABq--Ics",
        "outputId": "65b7afb1-123e-4fe1-8f7f-c369611764e3"
      },
      "source": [
        "#Plotting the graph for test dataset\n",
        "plt.scatter(X_test, Y_test, color = 'red')\n",
        "plt.plot(X_test, y_pred, color = 'blue')\n",
        "plt.title('Scores vs Hours(Test set)')\n",
        "plt.ylabel('Scores')\n",
        "plt.xlabel('Hours')\n",
        "plt.show()"
      ],
      "execution_count": null,
      "outputs": [
        {
          "output_type": "display_data",
          "data": {
            "image/png": "[encoded data removed]",
            "text/plain": [
              "<Figure size 432x288 with 1 Axes>"
            ]
          },
          "metadata": {
            "tags": []
          }
        }
      ]
    },
    {
      "cell_type": "markdown",
      "metadata": {
        "id": "-dQoeGVS-Ics"
      },
      "source": [
        "# SOLUTION"
      ]
    },
    {
      "cell_type": "code",
      "metadata": {
        "id": "G7Id2Fw9-Ics",
        "outputId": "245ee664-c3a1-4403-c603-91f09672ef84"
      },
      "source": [
        "hours = 9.25\n",
        "own_pred = lr.predict(hours)\n",
        "print(\"No of Hours = {}\".format(hours))\n",
        "print(\"Predicted Score = {}\".format(own_pred[0]))"
      ],
      "execution_count": null,
      "outputs": [
        {
          "output_type": "stream",
          "text": [
            "No of Hours = 9.25\n",
            "Predicted Score = 93.69173248737538\n"
          ],
          "name": "stdout"
        }
      ]
    },
    {
      "cell_type": "markdown",
      "metadata": {
        "id": "829GrcVO-Ics"
      },
      "source": [
        "# Conclusion"
      ]
    },
    {
      "cell_type": "markdown",
      "metadata": {
        "id": "Hc497bmC-Ict"
      },
      "source": [
        "If a student studies for 9.25 hrs/ day, according to the model, predicted score is 93.69\r\n",
        "\r\n"
      ]
    }
  ]
}